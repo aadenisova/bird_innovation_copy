{
 "cells": [
  {
   "cell_type": "code",
   "execution_count": 4,
   "id": "7274f5e7",
   "metadata": {},
   "outputs": [
    {
     "name": "stdout",
     "output_type": "stream",
     "text": [
      "cat_find.sh\t\tget_percent.sh\t\t   launch_mafratio.sh\r\n",
      "enumerate_wig_base.sh\tget_wig_final.sh\t   launch_maf_sc.sh\r\n",
      "extract_process_all.sh\tget_wig_inno.sh\t\t   launch_to_maf_3.sh\r\n",
      "extract_process.sh\tget_wig_noninno3.sh\t   launch_to_maf.sh\r\n",
      "extr.sh\t\t\tget_wig_noninno.sh\t   lift_off.sh\r\n",
      "get_bed_int2.py\t\tget_wig.sh\t\t   maf_extraction2.sh\r\n",
      "get_bed_int3.py\t\tjob_arr_ex1.sh\t\t   maf_extraction3.sh\r\n",
      "get_bed_int.py\t\tjob_arr_ex2.sh\t\t   maf_extraction4.sh\r\n",
      "get_bed_int_.sh\t\tjob_arr_ex_all.sh\t   maf_extraction.sh\r\n",
      "get_bed_int.sh\t\tlaunch_by_chrom.sh\t   maf_ratio_2.py\r\n",
      "get_inno_bed.ipynb\tlaunch_cactus.sh\t   maf_ratio_.py\r\n",
      "get_inno_blocks_M.sh\tlaunch_get_bed_int.sh\t   maf_ratio.py\r\n",
      "get_inno.py\t\tlaunch_get_inno.sh\t   maf_ratio_strict.py\r\n",
      "get_int.sh\t\tlaunch_get_int.sh\t   maf_screening.py\r\n",
      "get_int_t.sh\t\tlaunch_get_model3.sh\t   make_final_bbyb.sh\r\n",
      "get_model_3.sh\t\tlaunch_get_model_final.sh  make_final_wig.sh\r\n",
      "get_model_final.sh\tlaunch_get_model.sh\t   merge.sh\r\n",
      "get_model_inno.sh\tlaunch_get_wig_final2.sh   stats_info.ipynb\r\n",
      "get_model_noninno.sh\tlaunch_get_wig_final.sh    to_maf.sh\r\n",
      "get_model.sh\t\tlaunch_get_wig.sh\t   t.sh\r\n",
      "get_model.sh\\\t\tlaunch_job_arr.sh\t   Untitled.ipynb\r\n"
     ]
    }
   ],
   "source": [
    "!ls ../"
   ]
  },
  {
   "cell_type": "code",
   "execution_count": null,
   "id": "18805b4d",
   "metadata": {},
   "outputs": [],
   "source": []
  }
 ],
 "metadata": {
  "kernelspec": {
   "display_name": "Python 3 (ipykernel)",
   "language": "python",
   "name": "python3"
  },
  "language_info": {
   "codemirror_mode": {
    "name": "ipython",
    "version": 3
   },
   "file_extension": ".py",
   "mimetype": "text/x-python",
   "name": "python",
   "nbconvert_exporter": "python",
   "pygments_lexer": "ipython3",
   "version": "3.9.13"
  }
 },
 "nbformat": 4,
 "nbformat_minor": 5
}
