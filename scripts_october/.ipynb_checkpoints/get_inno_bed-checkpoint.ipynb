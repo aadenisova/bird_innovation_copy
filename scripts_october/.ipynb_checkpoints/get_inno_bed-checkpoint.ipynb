{
 "cells": [
  {
   "cell_type": "code",
   "execution_count": 12,
   "id": "8cce67ee",
   "metadata": {},
   "outputs": [],
   "source": [
    "import numpy as np\n",
    "import pandas as pd\n",
    "from sys import argv"
   ]
  },
  {
   "cell_type": "code",
   "execution_count": 140,
   "id": "d35714db",
   "metadata": {},
   "outputs": [],
   "source": [
    "chrom = 'NC_044242.2'\n",
    "\n",
    "path_evol = '../december/intervals_by_chrom3/'\n",
    "path_all_chrom = '../maf_counts/'\n",
    "\n",
    "\n",
    "cons_type = ['two_alleles', 'fixed_inno', 'fixed_noninno']\n",
    "\n",
    "cons_in_table = ['cons','inno','non_inno']\n",
    "\n",
    "for i in range(3):\n",
    "\n",
    "    df_evol = pd.read_csv('{}{}_{}.maf_final.bed'.format(path_evol, cons_type[i], chrom), sep = '\\t',\n",
    "                         names = ['start'])\n",
    "\n",
    "    df_all_chrom =  pd.read_csv('{}{}.maf.csv'.format(path_all_chrom, chrom))\n",
    "    merged_df = df_checked.merge(df_evol, on = 'start', how='inner')\n",
    "    merged_df['chrom'] = chrom\n",
    "\n",
    "    merged_df.to_csv('../evolved_positions/{}_{}.tsv'.format(cons_type[i], chrom), sep = '\\t')"
   ]
  },
  {
   "cell_type": "code",
   "execution_count": null,
   "id": "840df991",
   "metadata": {},
   "outputs": [],
   "source": []
  }
 ],
 "metadata": {
  "kernelspec": {
   "display_name": "Python 3 (ipykernel)",
   "language": "python",
   "name": "python3"
  },
  "language_info": {
   "codemirror_mode": {
    "name": "ipython",
    "version": 3
   },
   "file_extension": ".py",
   "mimetype": "text/x-python",
   "name": "python",
   "nbconvert_exporter": "python",
   "pygments_lexer": "ipython3",
   "version": "3.9.13"
  }
 },
 "nbformat": 4,
 "nbformat_minor": 5
}
