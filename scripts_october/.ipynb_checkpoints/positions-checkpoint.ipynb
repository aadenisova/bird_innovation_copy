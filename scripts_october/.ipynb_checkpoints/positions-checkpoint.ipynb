{
 "cells": [
  {
   "cell_type": "code",
   "execution_count": 287,
   "id": "1b0e7097",
   "metadata": {},
   "outputs": [],
   "source": [
    "import pandas as pd\n",
    "import numpy as np\n",
    "import seaborn as sns\n",
    "from matplotlib import pyplot as plt"
   ]
  },
  {
   "cell_type": "code",
   "execution_count": 288,
   "id": "d32bc985",
   "metadata": {},
   "outputs": [
    {
     "data": {
      "text/html": [
       "<div>\n",
       "<style scoped>\n",
       "    .dataframe tbody tr th:only-of-type {\n",
       "        vertical-align: middle;\n",
       "    }\n",
       "\n",
       "    .dataframe tbody tr th {\n",
       "        vertical-align: top;\n",
       "    }\n",
       "\n",
       "    .dataframe thead th {\n",
       "        text-align: right;\n",
       "    }\n",
       "</style>\n",
       "<table border=\"1\" class=\"dataframe\">\n",
       "  <thead>\n",
       "    <tr style=\"text-align: right;\">\n",
       "      <th></th>\n",
       "      <th>TotInno_resResEff2022</th>\n",
       "      <th>sp2</th>\n",
       "    </tr>\n",
       "  </thead>\n",
       "  <tbody>\n",
       "    <tr>\n",
       "      <th>0</th>\n",
       "      <td>1.974601</td>\n",
       "      <td>bHirRus1</td>\n",
       "    </tr>\n",
       "    <tr>\n",
       "      <th>1</th>\n",
       "      <td>1.950304</td>\n",
       "      <td>bAquChr1</td>\n",
       "    </tr>\n",
       "    <tr>\n",
       "      <th>2</th>\n",
       "      <td>1.565219</td>\n",
       "      <td>bCorMon1</td>\n",
       "    </tr>\n",
       "    <tr>\n",
       "      <th>3</th>\n",
       "      <td>1.445271</td>\n",
       "      <td>bEriRub2</td>\n",
       "    </tr>\n",
       "    <tr>\n",
       "      <th>4</th>\n",
       "      <td>1.357739</td>\n",
       "      <td>bSteHir1</td>\n",
       "    </tr>\n",
       "  </tbody>\n",
       "</table>\n",
       "</div>"
      ],
      "text/plain": [
       "   TotInno_resResEff2022       sp2\n",
       "0               1.974601  bHirRus1\n",
       "1               1.950304  bAquChr1\n",
       "2               1.565219  bCorMon1\n",
       "3               1.445271  bEriRub2\n",
       "4               1.357739  bSteHir1"
      ]
     },
     "execution_count": 288,
     "metadata": {},
     "output_type": "execute_result"
    }
   ],
   "source": [
    "order = pd.read_csv('../sorted_inno_sp.csv')\n",
    "order = order.rename(columns = {'VGL ID':'sp2'})\n",
    "order.head()"
   ]
  },
  {
   "cell_type": "code",
   "execution_count": 326,
   "id": "de15c61f",
   "metadata": {},
   "outputs": [
    {
     "data": {
      "text/html": [
       "<div>\n",
       "<style scoped>\n",
       "    .dataframe tbody tr th:only-of-type {\n",
       "        vertical-align: middle;\n",
       "    }\n",
       "\n",
       "    .dataframe tbody tr th {\n",
       "        vertical-align: top;\n",
       "    }\n",
       "\n",
       "    .dataframe thead th {\n",
       "        text-align: right;\n",
       "    }\n",
       "</style>\n",
       "<table border=\"1\" class=\"dataframe\">\n",
       "  <thead>\n",
       "    <tr style=\"text-align: right;\">\n",
       "      <th></th>\n",
       "      <th>start</th>\n",
       "      <th>cons</th>\n",
       "      <th>inno</th>\n",
       "      <th>non_inno</th>\n",
       "      <th>REF_inno</th>\n",
       "      <th>ALT_noninno</th>\n",
       "      <th>n_inno</th>\n",
       "      <th>n_noninno</th>\n",
       "      <th>n_all</th>\n",
       "      <th>inno_N</th>\n",
       "      <th>inno_-</th>\n",
       "      <th>noninno_N</th>\n",
       "      <th>noninno_-</th>\n",
       "      <th>chrom</th>\n",
       "      <th>file_name</th>\n",
       "    </tr>\n",
       "  </thead>\n",
       "  <tbody>\n",
       "    <tr>\n",
       "      <th>0</th>\n",
       "      <td>116362</td>\n",
       "      <td>False</td>\n",
       "      <td>False</td>\n",
       "      <td>False</td>\n",
       "      <td>T</td>\n",
       "      <td>T,C</td>\n",
       "      <td>7.0</td>\n",
       "      <td>25.0</td>\n",
       "      <td>32.0</td>\n",
       "      <td>0.0</td>\n",
       "      <td>1.0</td>\n",
       "      <td>0.0</td>\n",
       "      <td>4.0</td>\n",
       "      <td>NC_044211.2</td>\n",
       "      <td>../chrom_int/NC_044211.2_116362.tsv</td>\n",
       "    </tr>\n",
       "    <tr>\n",
       "      <th>1</th>\n",
       "      <td>123675</td>\n",
       "      <td>False</td>\n",
       "      <td>False</td>\n",
       "      <td>False</td>\n",
       "      <td>A,T,C</td>\n",
       "      <td>T,C</td>\n",
       "      <td>8.0</td>\n",
       "      <td>29.0</td>\n",
       "      <td>37.0</td>\n",
       "      <td>0.0</td>\n",
       "      <td>0.0</td>\n",
       "      <td>0.0</td>\n",
       "      <td>0.0</td>\n",
       "      <td>NC_044211.2</td>\n",
       "      <td>../chrom_int/NC_044211.2_123675.tsv</td>\n",
       "    </tr>\n",
       "    <tr>\n",
       "      <th>2</th>\n",
       "      <td>154944</td>\n",
       "      <td>False</td>\n",
       "      <td>False</td>\n",
       "      <td>False</td>\n",
       "      <td>G,C</td>\n",
       "      <td>T,G,C</td>\n",
       "      <td>7.0</td>\n",
       "      <td>26.0</td>\n",
       "      <td>33.0</td>\n",
       "      <td>0.0</td>\n",
       "      <td>1.0</td>\n",
       "      <td>0.0</td>\n",
       "      <td>1.0</td>\n",
       "      <td>NC_044211.2</td>\n",
       "      <td>../chrom_int/NC_044211.2_154944.tsv</td>\n",
       "    </tr>\n",
       "    <tr>\n",
       "      <th>3</th>\n",
       "      <td>231620</td>\n",
       "      <td>False</td>\n",
       "      <td>False</td>\n",
       "      <td>False</td>\n",
       "      <td>A,T,G</td>\n",
       "      <td>A,G,C</td>\n",
       "      <td>6.0</td>\n",
       "      <td>26.0</td>\n",
       "      <td>32.0</td>\n",
       "      <td>0.0</td>\n",
       "      <td>2.0</td>\n",
       "      <td>0.0</td>\n",
       "      <td>3.0</td>\n",
       "      <td>NC_044211.2</td>\n",
       "      <td>../chrom_int/NC_044211.2_231620.tsv</td>\n",
       "    </tr>\n",
       "    <tr>\n",
       "      <th>4</th>\n",
       "      <td>329838</td>\n",
       "      <td>False</td>\n",
       "      <td>False</td>\n",
       "      <td>False</td>\n",
       "      <td>T,C</td>\n",
       "      <td>T,G,C</td>\n",
       "      <td>8.0</td>\n",
       "      <td>21.0</td>\n",
       "      <td>29.0</td>\n",
       "      <td>0.0</td>\n",
       "      <td>0.0</td>\n",
       "      <td>0.0</td>\n",
       "      <td>2.0</td>\n",
       "      <td>NC_044211.2</td>\n",
       "      <td>../chrom_int/NC_044211.2_329838.tsv</td>\n",
       "    </tr>\n",
       "    <tr>\n",
       "      <th>...</th>\n",
       "      <td>...</td>\n",
       "      <td>...</td>\n",
       "      <td>...</td>\n",
       "      <td>...</td>\n",
       "      <td>...</td>\n",
       "      <td>...</td>\n",
       "      <td>...</td>\n",
       "      <td>...</td>\n",
       "      <td>...</td>\n",
       "      <td>...</td>\n",
       "      <td>...</td>\n",
       "      <td>...</td>\n",
       "      <td>...</td>\n",
       "      <td>...</td>\n",
       "      <td>...</td>\n",
       "    </tr>\n",
       "    <tr>\n",
       "      <th>6885</th>\n",
       "      <td>17472611</td>\n",
       "      <td>False</td>\n",
       "      <td>False</td>\n",
       "      <td>False</td>\n",
       "      <td>C</td>\n",
       "      <td>A,T,C</td>\n",
       "      <td>5.0</td>\n",
       "      <td>23.0</td>\n",
       "      <td>28.0</td>\n",
       "      <td>0.0</td>\n",
       "      <td>0.0</td>\n",
       "      <td>0.0</td>\n",
       "      <td>3.0</td>\n",
       "      <td>NC_045028.1</td>\n",
       "      <td>../chrom_int/NC_045028.1_17472611.tsv</td>\n",
       "    </tr>\n",
       "    <tr>\n",
       "      <th>6886</th>\n",
       "      <td>17596378</td>\n",
       "      <td>False</td>\n",
       "      <td>False</td>\n",
       "      <td>False</td>\n",
       "      <td>T,C</td>\n",
       "      <td>T,G,C</td>\n",
       "      <td>6.0</td>\n",
       "      <td>13.0</td>\n",
       "      <td>19.0</td>\n",
       "      <td>0.0</td>\n",
       "      <td>1.0</td>\n",
       "      <td>0.0</td>\n",
       "      <td>0.0</td>\n",
       "      <td>NC_045028.1</td>\n",
       "      <td>../chrom_int/NC_045028.1_17596378.tsv</td>\n",
       "    </tr>\n",
       "    <tr>\n",
       "      <th>6887</th>\n",
       "      <td>18840446</td>\n",
       "      <td>False</td>\n",
       "      <td>False</td>\n",
       "      <td>False</td>\n",
       "      <td>C</td>\n",
       "      <td>T,G,C</td>\n",
       "      <td>6.0</td>\n",
       "      <td>23.0</td>\n",
       "      <td>29.0</td>\n",
       "      <td>0.0</td>\n",
       "      <td>0.0</td>\n",
       "      <td>0.0</td>\n",
       "      <td>1.0</td>\n",
       "      <td>NC_045028.1</td>\n",
       "      <td>../chrom_int/NC_045028.1_18840446.tsv</td>\n",
       "    </tr>\n",
       "    <tr>\n",
       "      <th>6888</th>\n",
       "      <td>20149476</td>\n",
       "      <td>False</td>\n",
       "      <td>False</td>\n",
       "      <td>False</td>\n",
       "      <td>G</td>\n",
       "      <td>A,G</td>\n",
       "      <td>5.0</td>\n",
       "      <td>27.0</td>\n",
       "      <td>32.0</td>\n",
       "      <td>0.0</td>\n",
       "      <td>2.0</td>\n",
       "      <td>0.0</td>\n",
       "      <td>0.0</td>\n",
       "      <td>NC_045028.1</td>\n",
       "      <td>../chrom_int/NC_045028.1_20149476.tsv</td>\n",
       "    </tr>\n",
       "    <tr>\n",
       "      <th>6889</th>\n",
       "      <td>20605457</td>\n",
       "      <td>False</td>\n",
       "      <td>False</td>\n",
       "      <td>False</td>\n",
       "      <td>G</td>\n",
       "      <td>A,T,G,C</td>\n",
       "      <td>8.0</td>\n",
       "      <td>24.0</td>\n",
       "      <td>32.0</td>\n",
       "      <td>0.0</td>\n",
       "      <td>0.0</td>\n",
       "      <td>0.0</td>\n",
       "      <td>3.0</td>\n",
       "      <td>NC_045028.1</td>\n",
       "      <td>../chrom_int/NC_045028.1_20605457.tsv</td>\n",
       "    </tr>\n",
       "  </tbody>\n",
       "</table>\n",
       "<p>6890 rows × 15 columns</p>\n",
       "</div>"
      ],
      "text/plain": [
       "         start   cons   inno  non_inno REF_inno ALT_noninno  n_inno  \\\n",
       "0       116362  False  False     False        T         T,C     7.0   \n",
       "1       123675  False  False     False    A,T,C         T,C     8.0   \n",
       "2       154944  False  False     False      G,C       T,G,C     7.0   \n",
       "3       231620  False  False     False    A,T,G       A,G,C     6.0   \n",
       "4       329838  False  False     False      T,C       T,G,C     8.0   \n",
       "...        ...    ...    ...       ...      ...         ...     ...   \n",
       "6885  17472611  False  False     False        C       A,T,C     5.0   \n",
       "6886  17596378  False  False     False      T,C       T,G,C     6.0   \n",
       "6887  18840446  False  False     False        C       T,G,C     6.0   \n",
       "6888  20149476  False  False     False        G         A,G     5.0   \n",
       "6889  20605457  False  False     False        G     A,T,G,C     8.0   \n",
       "\n",
       "      n_noninno  n_all  inno_N  inno_-  noninno_N  noninno_-        chrom  \\\n",
       "0          25.0   32.0     0.0     1.0        0.0        4.0  NC_044211.2   \n",
       "1          29.0   37.0     0.0     0.0        0.0        0.0  NC_044211.2   \n",
       "2          26.0   33.0     0.0     1.0        0.0        1.0  NC_044211.2   \n",
       "3          26.0   32.0     0.0     2.0        0.0        3.0  NC_044211.2   \n",
       "4          21.0   29.0     0.0     0.0        0.0        2.0  NC_044211.2   \n",
       "...         ...    ...     ...     ...        ...        ...          ...   \n",
       "6885       23.0   28.0     0.0     0.0        0.0        3.0  NC_045028.1   \n",
       "6886       13.0   19.0     0.0     1.0        0.0        0.0  NC_045028.1   \n",
       "6887       23.0   29.0     0.0     0.0        0.0        1.0  NC_045028.1   \n",
       "6888       27.0   32.0     0.0     2.0        0.0        0.0  NC_045028.1   \n",
       "6889       24.0   32.0     0.0     0.0        0.0        3.0  NC_045028.1   \n",
       "\n",
       "                                  file_name  \n",
       "0       ../chrom_int/NC_044211.2_116362.tsv  \n",
       "1       ../chrom_int/NC_044211.2_123675.tsv  \n",
       "2       ../chrom_int/NC_044211.2_154944.tsv  \n",
       "3       ../chrom_int/NC_044211.2_231620.tsv  \n",
       "4       ../chrom_int/NC_044211.2_329838.tsv  \n",
       "...                                     ...  \n",
       "6885  ../chrom_int/NC_045028.1_17472611.tsv  \n",
       "6886  ../chrom_int/NC_045028.1_17596378.tsv  \n",
       "6887  ../chrom_int/NC_045028.1_18840446.tsv  \n",
       "6888  ../chrom_int/NC_045028.1_20149476.tsv  \n",
       "6889  ../chrom_int/NC_045028.1_20605457.tsv  \n",
       "\n",
       "[6890 rows x 15 columns]"
      ]
     },
     "execution_count": 326,
     "metadata": {},
     "output_type": "execute_result"
    }
   ],
   "source": [
    "df = pd.read_csv('../chrom_int_anno.csv')\n",
    "df['file_name'] = '../chrom_int/'+df['chrom'].astype(str)+'_'+df['start'].astype(str)+'.tsv'\n",
    "df"
   ]
  },
  {
   "cell_type": "code",
   "execution_count": 291,
   "id": "b47bc3d1",
   "metadata": {},
   "outputs": [],
   "source": [
    "# idx = df[(df['cons']==True) | (df['inno']==True) | (df['non_inno']==True)].index"
   ]
  },
  {
   "cell_type": "code",
   "execution_count": 292,
   "id": "d06321e0",
   "metadata": {
    "scrolled": false
   },
   "outputs": [],
   "source": [
    "# for i in idx:\n",
    "#     file_name = '../chrom_int/{}_{}.tsv'.format(df.iloc[i]['chrom'], df.iloc[i]['start'])\n",
    "\n",
    "#     df_sp = pd.read_csv(file_name, sep = '\\t')\n",
    "#     df_sp['sp2'] = df_sp['sp'].apply(lambda x: x.split('_')[1])\n",
    "#     df_for_plot = order.merge(df_sp, on = 'sp2')\n",
    "#     df_for_plot = df_for_plot[df_for_plot['canon']!='-']\n",
    "    \n",
    "#     sns.scatterplot(data=df_for_plot, x=\"TotInno_resResEff2022\", y=\"canon\", hue=\"canon\")\n",
    "#     plt.plot([0.5, 0.5], [0,2], 'r', linestyle='dashed')\n",
    "#     plt.show()"
   ]
  },
  {
   "cell_type": "code",
   "execution_count": 293,
   "id": "76c5bb64",
   "metadata": {},
   "outputs": [],
   "source": [
    "def get_continue(file_name):\n",
    "    \n",
    "\n",
    "    df_sp = pd.read_csv(file_name, sep = '\\t')\n",
    "    df_sp['sp2'] = df_sp['sp'].apply(lambda x: x.split('_')[1])\n",
    "    df_for_plot = order.merge(df_sp, on = 'sp2')\n",
    "    df_for_plot = df_for_plot[df_for_plot['canon']!='-']\n",
    "    \n",
    "    \n",
    "    ans = dict()\n",
    "\n",
    "    last = 0\n",
    "    for i in df_for_plot['canon']:\n",
    "\n",
    "        if last == 0:\n",
    "            ans[i] = 1\n",
    "            last = i\n",
    "\n",
    "        if i in ans and last==i:\n",
    "            ans[i]+=1\n",
    "            last = i\n",
    "\n",
    "        if last!=i and i not in ans:\n",
    "            ans[i] = 1\n",
    "            last = i\n",
    "\n",
    "        if last!=i and i in ans:\n",
    "            ans['2'+i] = 1\n",
    "            last = i\n",
    "    ans = [i for i in ans.keys() if i.startswith('2')]\n",
    "    if len(ans)==0:\n",
    "        \n",
    "        print(file_name)\n",
    "        sns.scatterplot(data=df_for_plot, x=\"TotInno_resResEff2022\", y=\"canon\", hue=\"canon\")\n",
    "        plt.plot([0.5, 0.5], [0,2], 'r', linestyle='dashed')\n",
    "        plt.show()\n",
    "        return True\n",
    "    else:\n",
    "        return False\n",
    "    \n",
    "#get_continue(df)"
   ]
  },
  {
   "cell_type": "code",
   "execution_count": 294,
   "id": "12af377c",
   "metadata": {
    "scrolled": false
   },
   "outputs": [
    {
     "name": "stdout",
     "output_type": "stream",
     "text": [
      "../chrom_int/NC_044212.2_20911096.tsv\n"
     ]
    },
    {
     "data": {
      "image/png": "[encoded data removed]",
      "text/plain": [
       "<Figure size 432x288 with 1 Axes>"
      ]
     },
     "metadata": {
      "needs_background": "light"
     },
     "output_type": "display_data"
    },
    {
     "name": "stdout",
     "output_type": "stream",
     "text": [
      "../chrom_int/NC_044212.2_24214881.tsv\n"
     ]
    },
    {
     "data": {
      "image/png": "[encoded data removed]",
      "text/plain": [
       "<Figure size 432x288 with 1 Axes>"
      ]
     },
     "metadata": {
      "needs_background": "light"
     },
     "output_type": "display_data"
    },
    {
     "name": "stdout",
     "output_type": "stream",
     "text": [
      "../chrom_int/NC_044214.2_94030014.tsv\n"
     ]
    },
    {
     "data": {
      "image/png": "[encoded data removed]",
      "text/plain": [
       "<Figure size 432x288 with 1 Axes>"
      ]
     },
     "metadata": {
      "needs_background": "light"
     },
     "output_type": "display_data"
    },
    {
     "name": "stdout",
     "output_type": "stream",
     "text": [
      "../chrom_int/NC_044215.2_24953527.tsv\n"
     ]
    },
    {
     "data": {
      "image/png": "[encoded data removed]",
      "text/plain": [
       "<Figure size 432x288 with 1 Axes>"
      ]
     },
     "metadata": {
      "needs_background": "light"
     },
     "output_type": "display_data"
    },
    {
     "name": "stdout",
     "output_type": "stream",
     "text": [
      "../chrom_int/NC_044217.2_29190824.tsv\n"
     ]
    },
    {
     "data": {
      "image/png": "[encoded data removed]",
      "text/plain": [
       "<Figure size 432x288 with 1 Axes>"
      ]
     },
     "metadata": {
      "needs_background": "light"
     },
     "output_type": "display_data"
    },
    {
     "name": "stdout",
     "output_type": "stream",
     "text": [
      "../chrom_int/NC_044231.2_1069474.tsv\n"
     ]
    },
    {
     "data": {
      "image/png": "[encoded data removed]",
      "text/plain": [
       "<Figure size 432x288 with 1 Axes>"
      ]
     },
     "metadata": {
      "needs_background": "light"
     },
     "output_type": "display_data"
    },
    {
     "name": "stdout",
     "output_type": "stream",
     "text": [
      "../chrom_int/NC_044233.2_4542996.tsv\n"
     ]
    },
    {
     "data": {
      "image/png": "[encoded data removed]",
      "text/plain": [
       "<Figure size 432x288 with 1 Axes>"
      ]
     },
     "metadata": {
      "needs_background": "light"
     },
     "output_type": "display_data"
    }
   ],
   "source": [
    "df['tt'] = df['file_name'].apply(lambda x: get_continue(x))"
   ]
  },
  {
   "cell_type": "code",
   "execution_count": 295,
   "id": "1e59dbc7",
   "metadata": {},
   "outputs": [
    {
     "data": {
      "text/html": [
       "<div>\n",
       "<style scoped>\n",
       "    .dataframe tbody tr th:only-of-type {\n",
       "        vertical-align: middle;\n",
       "    }\n",
       "\n",
       "    .dataframe tbody tr th {\n",
       "        vertical-align: top;\n",
       "    }\n",
       "\n",
       "    .dataframe thead th {\n",
       "        text-align: right;\n",
       "    }\n",
       "</style>\n",
       "<table border=\"1\" class=\"dataframe\">\n",
       "  <thead>\n",
       "    <tr style=\"text-align: right;\">\n",
       "      <th></th>\n",
       "      <th>start</th>\n",
       "      <th>cons</th>\n",
       "      <th>inno</th>\n",
       "      <th>non_inno</th>\n",
       "      <th>REF_inno</th>\n",
       "      <th>ALT_noninno</th>\n",
       "      <th>n_inno</th>\n",
       "      <th>n_noninno</th>\n",
       "      <th>n_all</th>\n",
       "      <th>inno_N</th>\n",
       "      <th>inno_-</th>\n",
       "      <th>noninno_N</th>\n",
       "      <th>noninno_-</th>\n",
       "      <th>chrom</th>\n",
       "      <th>file_name</th>\n",
       "      <th>tt</th>\n",
       "    </tr>\n",
       "  </thead>\n",
       "  <tbody>\n",
       "    <tr>\n",
       "      <th>829</th>\n",
       "      <td>20911096</td>\n",
       "      <td>True</td>\n",
       "      <td>False</td>\n",
       "      <td>False</td>\n",
       "      <td>G</td>\n",
       "      <td>A</td>\n",
       "      <td>6.0</td>\n",
       "      <td>27.0</td>\n",
       "      <td>33.0</td>\n",
       "      <td>0.0</td>\n",
       "      <td>2.0</td>\n",
       "      <td>0.0</td>\n",
       "      <td>1.0</td>\n",
       "      <td>NC_044212.2</td>\n",
       "      <td>../chrom_int/NC_044212.2_20911096.tsv</td>\n",
       "      <td>True</td>\n",
       "    </tr>\n",
       "    <tr>\n",
       "      <th>855</th>\n",
       "      <td>24214881</td>\n",
       "      <td>False</td>\n",
       "      <td>True</td>\n",
       "      <td>False</td>\n",
       "      <td>C</td>\n",
       "      <td>A,T</td>\n",
       "      <td>6.0</td>\n",
       "      <td>28.0</td>\n",
       "      <td>34.0</td>\n",
       "      <td>0.0</td>\n",
       "      <td>1.0</td>\n",
       "      <td>0.0</td>\n",
       "      <td>1.0</td>\n",
       "      <td>NC_044212.2</td>\n",
       "      <td>../chrom_int/NC_044212.2_24214881.tsv</td>\n",
       "      <td>True</td>\n",
       "    </tr>\n",
       "    <tr>\n",
       "      <th>2548</th>\n",
       "      <td>94030014</td>\n",
       "      <td>True</td>\n",
       "      <td>False</td>\n",
       "      <td>False</td>\n",
       "      <td>G</td>\n",
       "      <td>A</td>\n",
       "      <td>6.0</td>\n",
       "      <td>15.0</td>\n",
       "      <td>21.0</td>\n",
       "      <td>0.0</td>\n",
       "      <td>1.0</td>\n",
       "      <td>0.0</td>\n",
       "      <td>3.0</td>\n",
       "      <td>NC_044214.2</td>\n",
       "      <td>../chrom_int/NC_044214.2_94030014.tsv</td>\n",
       "      <td>True</td>\n",
       "    </tr>\n",
       "    <tr>\n",
       "      <th>2808</th>\n",
       "      <td>24953527</td>\n",
       "      <td>False</td>\n",
       "      <td>False</td>\n",
       "      <td>False</td>\n",
       "      <td>C</td>\n",
       "      <td>T,C</td>\n",
       "      <td>7.0</td>\n",
       "      <td>26.0</td>\n",
       "      <td>33.0</td>\n",
       "      <td>0.0</td>\n",
       "      <td>1.0</td>\n",
       "      <td>0.0</td>\n",
       "      <td>2.0</td>\n",
       "      <td>NC_044215.2</td>\n",
       "      <td>../chrom_int/NC_044215.2_24953527.tsv</td>\n",
       "      <td>True</td>\n",
       "    </tr>\n",
       "    <tr>\n",
       "      <th>3500</th>\n",
       "      <td>29190824</td>\n",
       "      <td>True</td>\n",
       "      <td>False</td>\n",
       "      <td>False</td>\n",
       "      <td>A</td>\n",
       "      <td>T</td>\n",
       "      <td>7.0</td>\n",
       "      <td>11.0</td>\n",
       "      <td>18.0</td>\n",
       "      <td>0.0</td>\n",
       "      <td>0.0</td>\n",
       "      <td>0.0</td>\n",
       "      <td>0.0</td>\n",
       "      <td>NC_044217.2</td>\n",
       "      <td>../chrom_int/NC_044217.2_29190824.tsv</td>\n",
       "      <td>True</td>\n",
       "    </tr>\n",
       "    <tr>\n",
       "      <th>5712</th>\n",
       "      <td>1069474</td>\n",
       "      <td>True</td>\n",
       "      <td>False</td>\n",
       "      <td>False</td>\n",
       "      <td>T</td>\n",
       "      <td>C</td>\n",
       "      <td>7.0</td>\n",
       "      <td>21.0</td>\n",
       "      <td>28.0</td>\n",
       "      <td>0.0</td>\n",
       "      <td>0.0</td>\n",
       "      <td>0.0</td>\n",
       "      <td>5.0</td>\n",
       "      <td>NC_044231.2</td>\n",
       "      <td>../chrom_int/NC_044231.2_1069474.tsv</td>\n",
       "      <td>True</td>\n",
       "    </tr>\n",
       "    <tr>\n",
       "      <th>5960</th>\n",
       "      <td>4542996</td>\n",
       "      <td>False</td>\n",
       "      <td>False</td>\n",
       "      <td>True</td>\n",
       "      <td>T,C</td>\n",
       "      <td>A</td>\n",
       "      <td>8.0</td>\n",
       "      <td>20.0</td>\n",
       "      <td>28.0</td>\n",
       "      <td>0.0</td>\n",
       "      <td>0.0</td>\n",
       "      <td>0.0</td>\n",
       "      <td>5.0</td>\n",
       "      <td>NC_044233.2</td>\n",
       "      <td>../chrom_int/NC_044233.2_4542996.tsv</td>\n",
       "      <td>True</td>\n",
       "    </tr>\n",
       "  </tbody>\n",
       "</table>\n",
       "</div>"
      ],
      "text/plain": [
       "         start   cons   inno  non_inno REF_inno ALT_noninno  n_inno  \\\n",
       "829   20911096   True  False     False        G           A     6.0   \n",
       "855   24214881  False   True     False        C         A,T     6.0   \n",
       "2548  94030014   True  False     False        G           A     6.0   \n",
       "2808  24953527  False  False     False        C         T,C     7.0   \n",
       "3500  29190824   True  False     False        A           T     7.0   \n",
       "5712   1069474   True  False     False        T           C     7.0   \n",
       "5960   4542996  False  False      True      T,C           A     8.0   \n",
       "\n",
       "      n_noninno  n_all  inno_N  inno_-  noninno_N  noninno_-        chrom  \\\n",
       "829        27.0   33.0     0.0     2.0        0.0        1.0  NC_044212.2   \n",
       "855        28.0   34.0     0.0     1.0        0.0        1.0  NC_044212.2   \n",
       "2548       15.0   21.0     0.0     1.0        0.0        3.0  NC_044214.2   \n",
       "2808       26.0   33.0     0.0     1.0        0.0        2.0  NC_044215.2   \n",
       "3500       11.0   18.0     0.0     0.0        0.0        0.0  NC_044217.2   \n",
       "5712       21.0   28.0     0.0     0.0        0.0        5.0  NC_044231.2   \n",
       "5960       20.0   28.0     0.0     0.0        0.0        5.0  NC_044233.2   \n",
       "\n",
       "                                  file_name    tt  \n",
       "829   ../chrom_int/NC_044212.2_20911096.tsv  True  \n",
       "855   ../chrom_int/NC_044212.2_24214881.tsv  True  \n",
       "2548  ../chrom_int/NC_044214.2_94030014.tsv  True  \n",
       "2808  ../chrom_int/NC_044215.2_24953527.tsv  True  \n",
       "3500  ../chrom_int/NC_044217.2_29190824.tsv  True  \n",
       "5712   ../chrom_int/NC_044231.2_1069474.tsv  True  \n",
       "5960   ../chrom_int/NC_044233.2_4542996.tsv  True  "
      ]
     },
     "execution_count": 295,
     "metadata": {},
     "output_type": "execute_result"
    }
   ],
   "source": [
    "df_true = df[df['tt']==True]\n",
    "df_true"
   ]
  },
  {
   "cell_type": "code",
   "execution_count": 296,
   "id": "4e3bc7bc",
   "metadata": {},
   "outputs": [],
   "source": [
    "import gffpandas.gffpandas as gffpd\n",
    "\n",
    "import pandas as pd\n",
    "from pandas.core.common import SettingWithCopyWarning\n",
    "import gseapy as gp\n",
    "import warnings\n",
    "\n",
    "import numpy as np\n",
    "from gseapy.plot import barplot, dotplot\n",
    "from matplotlib import pyplot as plt \n",
    "\n",
    "\n",
    "warnings.simplefilter(action=\"ignore\", category=SettingWithCopyWarning)\n",
    "path_to_data = '../'"
   ]
  },
  {
   "cell_type": "code",
   "execution_count": 297,
   "id": "15e3c4e5",
   "metadata": {},
   "outputs": [
    {
     "name": "stdout",
     "output_type": "stream",
     "text": [
      "##gff-version 3\n",
      "#!gff-spec-version 1.21\n",
      "#!processor NCBI annotwriter\n",
      "#!genome-build bTaeGut1.4.pri\n",
      "#!genome-build-accession NCBI_Assembly:GCF_003957565.2\n",
      "#!annotation-source NCBI Taeniopygia guttata Annotation Release 106\n",
      "##sequence-region NC_044211.2 1 114020016\n",
      "##species https://www.ncbi.nlm.nih.gov/Taxonomy/Browser/wwwtax.cgi?id=59729\n",
      "\n"
     ]
    }
   ],
   "source": [
    "annotation = gffpd.read_gff3('{}/{}'.format(path_to_data, 'GCF_003957565.2_bTaeGut1.4.pri_genomic.gff'))\n",
    "print(annotation.header)"
   ]
  },
  {
   "cell_type": "code",
   "execution_count": 298,
   "id": "2d279ec0",
   "metadata": {},
   "outputs": [
    {
     "data": {
      "text/plain": [
       "21732"
      ]
     },
     "execution_count": 298,
     "metadata": {},
     "output_type": "execute_result"
    }
   ],
   "source": [
    "df_ori = annotation.df\n",
    "df_ori['chrom']=df_ori['seq_id']\n",
    "df_ = df_ori[df_ori['type']=='gene']\n",
    "df_['element_ID'] = df_['attributes'].apply(lambda x: x.split(';')[0].split('=')[1].split('-')[1])\n",
    "background = df_['element_ID'].tolist()\n",
    "len(background)"
   ]
  },
  {
   "cell_type": "code",
   "execution_count": 305,
   "id": "c791976a",
   "metadata": {},
   "outputs": [
    {
     "data": {
      "text/html": [
       "<div>\n",
       "<style scoped>\n",
       "    .dataframe tbody tr th:only-of-type {\n",
       "        vertical-align: middle;\n",
       "    }\n",
       "\n",
       "    .dataframe tbody tr th {\n",
       "        vertical-align: top;\n",
       "    }\n",
       "\n",
       "    .dataframe thead th {\n",
       "        text-align: right;\n",
       "    }\n",
       "</style>\n",
       "<table border=\"1\" class=\"dataframe\">\n",
       "  <thead>\n",
       "    <tr style=\"text-align: right;\">\n",
       "      <th></th>\n",
       "      <th>seq_id</th>\n",
       "      <th>source</th>\n",
       "      <th>type</th>\n",
       "      <th>start</th>\n",
       "      <th>end</th>\n",
       "      <th>score</th>\n",
       "      <th>strand</th>\n",
       "      <th>phase</th>\n",
       "      <th>attributes</th>\n",
       "      <th>chrom</th>\n",
       "      <th>element_ID</th>\n",
       "      <th>coord</th>\n",
       "    </tr>\n",
       "  </thead>\n",
       "  <tbody>\n",
       "    <tr>\n",
       "      <th>118716</th>\n",
       "      <td>NC_044212.2</td>\n",
       "      <td>Gnomon</td>\n",
       "      <td>gene</td>\n",
       "      <td>20872681</td>\n",
       "      <td>20928308</td>\n",
       "      <td>.</td>\n",
       "      <td>+</td>\n",
       "      <td>.</td>\n",
       "      <td>ID=gene-POT1;Dbxref=GeneID:100228967;Name=POT1...</td>\n",
       "      <td>NC_044212.2</td>\n",
       "      <td>POT1</td>\n",
       "      <td>20911097</td>\n",
       "    </tr>\n",
       "    <tr>\n",
       "      <th>122704</th>\n",
       "      <td>NC_044212.2</td>\n",
       "      <td>Gnomon</td>\n",
       "      <td>gene</td>\n",
       "      <td>24209740</td>\n",
       "      <td>24229025</td>\n",
       "      <td>.</td>\n",
       "      <td>+</td>\n",
       "      <td>.</td>\n",
       "      <td>ID=gene-LOC121468148;Dbxref=GeneID:121468148;N...</td>\n",
       "      <td>NC_044212.2</td>\n",
       "      <td>LOC121468148</td>\n",
       "      <td>24214882</td>\n",
       "    </tr>\n",
       "    <tr>\n",
       "      <th>392434</th>\n",
       "      <td>NC_044214.2</td>\n",
       "      <td>Gnomon</td>\n",
       "      <td>gene</td>\n",
       "      <td>94028581</td>\n",
       "      <td>94063814</td>\n",
       "      <td>.</td>\n",
       "      <td>-</td>\n",
       "      <td>.</td>\n",
       "      <td>ID=gene-CAPN14;Dbxref=GeneID:100232506;Name=CA...</td>\n",
       "      <td>NC_044214.2</td>\n",
       "      <td>CAPN14</td>\n",
       "      <td>94030015</td>\n",
       "    </tr>\n",
       "    <tr>\n",
       "      <th>430654</th>\n",
       "      <td>NC_044215.2</td>\n",
       "      <td>Gnomon</td>\n",
       "      <td>gene</td>\n",
       "      <td>24926306</td>\n",
       "      <td>25012701</td>\n",
       "      <td>.</td>\n",
       "      <td>+</td>\n",
       "      <td>.</td>\n",
       "      <td>ID=gene-LOC115494957;Dbxref=GeneID:115494957;N...</td>\n",
       "      <td>NC_044215.2</td>\n",
       "      <td>LOC115494957</td>\n",
       "      <td>24953528</td>\n",
       "    </tr>\n",
       "    <tr>\n",
       "      <th>551439</th>\n",
       "      <td>NC_044217.2</td>\n",
       "      <td>Gnomon</td>\n",
       "      <td>gene</td>\n",
       "      <td>29163500</td>\n",
       "      <td>29214118</td>\n",
       "      <td>.</td>\n",
       "      <td>+</td>\n",
       "      <td>.</td>\n",
       "      <td>ID=gene-PLEKHH1;Dbxref=GeneID:100232510;Name=P...</td>\n",
       "      <td>NC_044217.2</td>\n",
       "      <td>PLEKHH1</td>\n",
       "      <td>29190825</td>\n",
       "    </tr>\n",
       "    <tr>\n",
       "      <th>1019250</th>\n",
       "      <td>NC_044231.2</td>\n",
       "      <td>Gnomon</td>\n",
       "      <td>gene</td>\n",
       "      <td>1057611</td>\n",
       "      <td>1079110</td>\n",
       "      <td>.</td>\n",
       "      <td>-</td>\n",
       "      <td>.</td>\n",
       "      <td>ID=gene-CUEDC1;Dbxref=GeneID:100228984;Name=CU...</td>\n",
       "      <td>NC_044231.2</td>\n",
       "      <td>CUEDC1</td>\n",
       "      <td>1069475</td>\n",
       "    </tr>\n",
       "    <tr>\n",
       "      <th>1069071</th>\n",
       "      <td>NC_044233.2</td>\n",
       "      <td>Gnomon</td>\n",
       "      <td>gene</td>\n",
       "      <td>4472537</td>\n",
       "      <td>4567680</td>\n",
       "      <td>.</td>\n",
       "      <td>-</td>\n",
       "      <td>.</td>\n",
       "      <td>ID=gene-VPS13D;Dbxref=GeneID:100224544;Name=VP...</td>\n",
       "      <td>NC_044233.2</td>\n",
       "      <td>VPS13D</td>\n",
       "      <td>4542997</td>\n",
       "    </tr>\n",
       "  </tbody>\n",
       "</table>\n",
       "</div>"
      ],
      "text/plain": [
       "              seq_id  source  type     start       end score strand phase  \\\n",
       "118716   NC_044212.2  Gnomon  gene  20872681  20928308     .      +     .   \n",
       "122704   NC_044212.2  Gnomon  gene  24209740  24229025     .      +     .   \n",
       "392434   NC_044214.2  Gnomon  gene  94028581  94063814     .      -     .   \n",
       "430654   NC_044215.2  Gnomon  gene  24926306  25012701     .      +     .   \n",
       "551439   NC_044217.2  Gnomon  gene  29163500  29214118     .      +     .   \n",
       "1019250  NC_044231.2  Gnomon  gene   1057611   1079110     .      -     .   \n",
       "1069071  NC_044233.2  Gnomon  gene   4472537   4567680     .      -     .   \n",
       "\n",
       "                                                attributes        chrom  \\\n",
       "118716   ID=gene-POT1;Dbxref=GeneID:100228967;Name=POT1...  NC_044212.2   \n",
       "122704   ID=gene-LOC121468148;Dbxref=GeneID:121468148;N...  NC_044212.2   \n",
       "392434   ID=gene-CAPN14;Dbxref=GeneID:100232506;Name=CA...  NC_044214.2   \n",
       "430654   ID=gene-LOC115494957;Dbxref=GeneID:115494957;N...  NC_044215.2   \n",
       "551439   ID=gene-PLEKHH1;Dbxref=GeneID:100232510;Name=P...  NC_044217.2   \n",
       "1019250  ID=gene-CUEDC1;Dbxref=GeneID:100228984;Name=CU...  NC_044231.2   \n",
       "1069071  ID=gene-VPS13D;Dbxref=GeneID:100224544;Name=VP...  NC_044233.2   \n",
       "\n",
       "           element_ID     coord  \n",
       "118716           POT1  20911097  \n",
       "122704   LOC121468148  24214882  \n",
       "392434         CAPN14  94030015  \n",
       "430654   LOC115494957  24953528  \n",
       "551439        PLEKHH1  29190825  \n",
       "1019250        CUEDC1   1069475  \n",
       "1069071        VPS13D   4542997  "
      ]
     },
     "execution_count": 305,
     "metadata": {},
     "output_type": "execute_result"
    }
   ],
   "source": [
    "def get_genes(df_true):\n",
    "    genelists = []\n",
    "    cons_in_table = ['cons','inno','non_inno']\n",
    "\n",
    "    df2 = df_true\n",
    "\n",
    "    #df2 = df2[df2['start']!='start']\n",
    "    df2['start'] = df2['start']+1 \n",
    "    df3 = df2\n",
    "    matched_list = []\n",
    "\n",
    "    for chrom in df3['chrom'].unique():\n",
    "        df3_chrom = df3[df3['chrom']== chrom]\n",
    "        df_chrom = df_[df_['chrom']==chrom]\n",
    "\n",
    "        for i in df3_chrom.index:\n",
    "            df_small = df_chrom[(df_chrom['start']<=df3_chrom.loc[i]['start'])\n",
    "                                         &(df_chrom['end']>=df3_chrom.loc[i]['start'])]\n",
    "            df_small['coord'] = int(df3_chrom.loc[i]['start'])\n",
    "            df_small['coord'] = int(df3_chrom.loc[i]['start'])\n",
    "            df_small['coord'] = df_small['coord'] - 1\n",
    "            matched_list.append(df_small)\n",
    "    df_genes = pd.concat(matched_list)\n",
    "\n",
    "    df_genes['element_ID'] = df_genes['attributes'].apply(lambda x: x.split(';')[0].split('=')[1].split('-')[1])\n",
    "    return df_genes\n",
    "\n",
    "get_genes(df_true)"
   ]
  },
  {
   "cell_type": "code",
   "execution_count": 163,
   "id": "08b37750",
   "metadata": {},
   "outputs": [
    {
     "data": {
      "text/plain": [
       "['A']"
      ]
     },
     "execution_count": 163,
     "metadata": {},
     "output_type": "execute_result"
    }
   ],
   "source": [
    "def get_continue2(file_name):\n",
    "    \n",
    "\n",
    "    df_sp = pd.read_csv(file_name, sep = '\\t')\n",
    "    df_sp['sp2'] = df_sp['sp'].apply(lambda x: x.split('_')[1])\n",
    "    df_for_plot = order.merge(df_sp, on = 'sp2')\n",
    "    df_for_plot = df_for_plot[df_for_plot['canon']!='-']\n",
    "    \n",
    "    \n",
    "    ans = dict()\n",
    "\n",
    "    last = 0\n",
    "    for i in df_for_plot['canon']:\n",
    "\n",
    "        if last == 0:\n",
    "            ans[i] = 1\n",
    "            last = i\n",
    "\n",
    "        if i in ans and last==i:\n",
    "            ans[i]+=1\n",
    "            last = i\n",
    "\n",
    "        if last!=i and i not in ans:\n",
    "            ans[i] = 1\n",
    "            last = i\n",
    "\n",
    "        if last!=i and i in ans:\n",
    "            ans['2'+i] = 1\n",
    "            last = i\n",
    "    ans = [i for i in ans.keys() if i.startswith('2')]\n",
    "    if len(ans)==0:\n",
    "        \n",
    "        print(file_name)\n",
    "        sns.scatterplot(data=df_for_plot, x=\"TotInno_resResEff2022\", y=\"canon\", hue=\"canon\")\n",
    "        plt.plot([0.5, 0.5], [0,2], 'r', linestyle='dashed')\n",
    "        plt.show()\n",
    "        return True\n",
    "    else:\n",
    "        return False"
   ]
  },
  {
   "cell_type": "code",
   "execution_count": 168,
   "id": "61ce6bd8",
   "metadata": {},
   "outputs": [
    {
     "data": {
      "text/plain": [
       "0    False\n",
       "1    False\n",
       "2    False\n",
       "3    False\n",
       "4    False\n",
       "5    False\n",
       "6    False\n",
       "7    False\n",
       "8    False\n",
       "9    False\n",
       "Name: file_name, dtype: bool"
      ]
     },
     "execution_count": 168,
     "metadata": {},
     "output_type": "execute_result"
    }
   ],
   "source": [
    " df['file_name'][:10].apply(lambda x: get_continue(x))"
   ]
  },
  {
   "cell_type": "code",
   "execution_count": 301,
   "id": "6a189a91",
   "metadata": {},
   "outputs": [
    {
     "data": {
      "text/plain": [
       "['bGeoTri1', 'bSteHir1', 'bSylAtr1', 'bAquChr1']"
      ]
     },
     "execution_count": 301,
     "metadata": {},
     "output_type": "execute_result"
    }
   ],
   "source": [
    "sp_non_inno = [i.split('_')[2].split('.')[0] for i in \n",
    "\"\"\"\n",
    "GCF_003957565.2_bTaeGut1.4.pri,\n",
    "GCA_008658365.1_bAlcTor1_primary,\n",
    "GCA_014839755.1_bSylBor1.pri,\n",
    "GCA_009769605.1_bBucAby1.pri\"\"\".split()]\n",
    "sp_inno = '''bGeoTri1\n",
    "bSteHir1\n",
    "bSylAtr1\n",
    "bAquChr1'''.split()\n",
    "sp_inno"
   ]
  },
  {
   "cell_type": "code",
   "execution_count": 322,
   "id": "39552527",
   "metadata": {},
   "outputs": [
    {
     "data": {
      "text/plain": [
       "False"
      ]
     },
     "execution_count": 322,
     "metadata": {},
     "output_type": "execute_result"
    }
   ],
   "source": [
    "def get_continue2(df, i):\n",
    "    \n",
    "\n",
    "    \n",
    "    file_name = '../chrom_int/{}_{}.tsv'.format(df.iloc[i]['chrom'], df.iloc[i]['start'])\n",
    "\n",
    "    df_sp = pd.read_csv(file_name, sep = '\\t')\n",
    "    df_sp['sp2'] = df_sp['sp'].apply(lambda x: x.split('_')[1])\n",
    "    df_for_plot = order.merge(df_sp, on = 'sp2')\n",
    "    df_for_plot =  df_for_plot[(df_for_plot['canon']!='-')]#&(df_for_plot['canon']!='N')]\n",
    "    \n",
    "    non_inno_let = list(df_for_plot[df_for_plot['sp2'].apply(lambda x: x in sp_non_inno)]['canon'].unique())\n",
    "    inno_let = list(df_for_plot[df_for_plot['sp2'].apply(lambda x: x in sp_inno)]['canon'].unique())\n",
    "    \n",
    "    if 'N' in non_inno_let:\n",
    "        non_inno_let.remove('N')\n",
    "    if 'N' in inno_let:\n",
    "        inno_let.remove('N')\n",
    "    \n",
    "    canon = []\n",
    "    if len(non_inno_let)==1:\n",
    "        canon.append(non_inno_let[0])\n",
    "    if len(inno_let)==1:\n",
    "        canon.append(inno_let[0])\n",
    "        \n",
    "    \n",
    "    ans = dict()\n",
    "\n",
    "    last = 0\n",
    "    firstt = df_for_plot['canon'].tolist()[0]\n",
    "    lastt = df_for_plot['canon'].tolist()[-1]\n",
    "    \n",
    "    for letter in df_for_plot['canon']:\n",
    "\n",
    "        if last == 0:\n",
    "            ans[letter] = 1\n",
    "            last = letter\n",
    "\n",
    "        if i in ans and last==letter:\n",
    "            ans[letter]+=1\n",
    "            last = letter\n",
    "\n",
    "        if last!=letter and letter not in ans:\n",
    "            ans[letter] = 1\n",
    "            last = letter\n",
    "\n",
    "        if last!=letter and letter in ans:\n",
    "            if letter in canon:\n",
    "                ans['2'+letter] = 1\n",
    "            elif letter not in canon:\n",
    "                ans[letter]+=1\n",
    "            last = letter\n",
    "    ans2 = [j for j in ans.keys() if j.startswith('2')]\n",
    "    \n",
    "    if len(ans2)==0 and firstt!=lastt:\n",
    "        sns.scatterplot(data=df_for_plot, x=\"TotInno_resResEff2022\", y=\"canon\", hue=\"canon\")\n",
    "        plt.plot([0.5, 0.5], [0,4], 'r', linestyle='dashed')\n",
    "\n",
    "        print(file_name)\n",
    "        plt.show()\n",
    "        \n",
    "        return True\n",
    "    else:\n",
    "        return False\n",
    "    \n",
    "get_continue2(df, i)"
   ]
  },
  {
   "cell_type": "code",
   "execution_count": 323,
   "id": "4c272bc5",
   "metadata": {},
   "outputs": [
    {
     "name": "stdout",
     "output_type": "stream",
     "text": [
      "../chrom_int/NC_044212.2_20911096.tsv\n"
     ]
    },
    {
     "data": {
      "image/png": "[encoded data removed]",
      "text/plain": [
       "<Figure size 432x288 with 1 Axes>"
      ]
     },
     "metadata": {
      "needs_background": "light"
     },
     "output_type": "display_data"
    },
    {
     "name": "stdout",
     "output_type": "stream",
     "text": [
      "../chrom_int/NC_044212.2_24214881.tsv\n"
     ]
    },
    {
     "data": {
      "image/png": "[encoded data removed]",
      "text/plain": [
       "<Figure size 432x288 with 1 Axes>"
      ]
     },
     "metadata": {
      "needs_background": "light"
     },
     "output_type": "display_data"
    },
    {
     "name": "stdout",
     "output_type": "stream",
     "text": [
      "../chrom_int/NC_044213.2_135115429.tsv\n"
     ]
    },
    {
     "data": {
      "image/png": "[encoded data removed]",
      "text/plain": [
       "<Figure size 432x288 with 1 Axes>"
      ]
     },
     "metadata": {
      "needs_background": "light"
     },
     "output_type": "display_data"
    },
    {
     "name": "stdout",
     "output_type": "stream",
     "text": [
      "../chrom_int/NC_044214.2_5491736.tsv\n"
     ]
    },
    {
     "data": {
      "image/png": "[encoded data removed]",
      "text/plain": [
       "<Figure size 432x288 with 1 Axes>"
      ]
     },
     "metadata": {
      "needs_background": "light"
     },
     "output_type": "display_data"
    },
    {
     "name": "stdout",
     "output_type": "stream",
     "text": [
      "../chrom_int/NC_044214.2_25976307.tsv\n"
     ]
    },
    {
     "data": {
      "image/png": "[encoded data removed]",
      "text/plain": [
       "<Figure size 432x288 with 1 Axes>"
      ]
     },
     "metadata": {
      "needs_background": "light"
     },
     "output_type": "display_data"
    },
    {
     "name": "stdout",
     "output_type": "stream",
     "text": [
      "../chrom_int/NC_044214.2_56243393.tsv\n"
     ]
    },
    {
     "data": {
      "image/png": "[encoded data removed]",
      "text/plain": [
       "<Figure size 432x288 with 1 Axes>"
      ]
     },
     "metadata": {
      "needs_background": "light"
     },
     "output_type": "display_data"
    },
    {
     "name": "stdout",
     "output_type": "stream",
     "text": [
      "../chrom_int/NC_044214.2_81331365.tsv\n"
     ]
    },
    {
     "data": {
      "image/png": "[encoded data removed]",
      "text/plain": [
       "<Figure size 432x288 with 1 Axes>"
      ]
     },
     "metadata": {
      "needs_background": "light"
     },
     "output_type": "display_data"
    },
    {
     "name": "stdout",
     "output_type": "stream",
     "text": [
      "../chrom_int/NC_044214.2_94030014.tsv\n"
     ]
    },
    {
     "data": {
      "image/png": "[encoded data removed]",
      "text/plain": [
       "<Figure size 432x288 with 1 Axes>"
      ]
     },
     "metadata": {
      "needs_background": "light"
     },
     "output_type": "display_data"
    },
    {
     "name": "stdout",
     "output_type": "stream",
     "text": [
      "../chrom_int/NC_044215.2_24953527.tsv\n"
     ]
    },
    {
     "data": {
      "image/png": "[encoded data removed]",
      "text/plain": [
       "<Figure size 432x288 with 1 Axes>"
      ]
     },
     "metadata": {
      "needs_background": "light"
     },
     "output_type": "display_data"
    },
    {
     "name": "stdout",
     "output_type": "stream",
     "text": [
      "../chrom_int/NC_044215.2_65800661.tsv\n"
     ]
    },
    {
     "data": {
      "image/png": "[encoded data removed]",
      "text/plain": [
       "<Figure size 432x288 with 1 Axes>"
      ]
     },
     "metadata": {
      "needs_background": "light"
     },
     "output_type": "display_data"
    },
    {
     "name": "stdout",
     "output_type": "stream",
     "text": [
      "../chrom_int/NC_044217.2_4603361.tsv\n"
     ]
    },
    {
     "data": {
      "image/png": "[encoded data removed]",
      "text/plain": [
       "<Figure size 432x288 with 1 Axes>"
      ]
     },
     "metadata": {
      "needs_background": "light"
     },
     "output_type": "display_data"
    },
    {
     "name": "stdout",
     "output_type": "stream",
     "text": [
      "../chrom_int/NC_044217.2_29190824.tsv\n"
     ]
    },
    {
     "data": {
      "image/png": "[encoded data removed]",
      "text/plain": [
       "<Figure size 432x288 with 1 Axes>"
      ]
     },
     "metadata": {
      "needs_background": "light"
     },
     "output_type": "display_data"
    },
    {
     "name": "stdout",
     "output_type": "stream",
     "text": [
      "../chrom_int/NC_044219.2_37320506.tsv\n"
     ]
    },
    {
     "data": {
      "image/png": "[encoded data removed]",
      "text/plain": [
       "<Figure size 432x288 with 1 Axes>"
      ]
     },
     "metadata": {
      "needs_background": "light"
     },
     "output_type": "display_data"
    },
    {
     "name": "stdout",
     "output_type": "stream",
     "text": [
      "../chrom_int/NC_044221.2_16534374.tsv\n"
     ]
    },
    {
     "data": {
      "image/png": "[encoded data removed]",
      "text/plain": [
       "<Figure size 432x288 with 1 Axes>"
      ]
     },
     "metadata": {
      "needs_background": "light"
     },
     "output_type": "display_data"
    },
    {
     "name": "stdout",
     "output_type": "stream",
     "text": [
      "../chrom_int/NC_044221.2_22107161.tsv\n"
     ]
    },
    {
     "data": {
      "image/png": "[encoded data removed]",
      "text/plain": [
       "<Figure size 432x288 with 1 Axes>"
      ]
     },
     "metadata": {
      "needs_background": "light"
     },
     "output_type": "display_data"
    },
    {
     "name": "stdout",
     "output_type": "stream",
     "text": [
      "../chrom_int/NC_044224.2_16823715.tsv\n"
     ]
    },
    {
     "data": {
      "image/png": "[encoded data removed]",
      "text/plain": [
       "<Figure size 432x288 with 1 Axes>"
      ]
     },
     "metadata": {
      "needs_background": "light"
     },
     "output_type": "display_data"
    },
    {
     "name": "stdout",
     "output_type": "stream",
     "text": [
      "../chrom_int/NC_044230.2_6214136.tsv\n"
     ]
    },
    {
     "data": {
      "image/png": "[encoded data removed]",
      "text/plain": [
       "<Figure size 432x288 with 1 Axes>"
      ]
     },
     "metadata": {
      "needs_background": "light"
     },
     "output_type": "display_data"
    },
    {
     "name": "stdout",
     "output_type": "stream",
     "text": [
      "../chrom_int/NC_044231.2_1069474.tsv\n"
     ]
    },
    {
     "data": {
      "image/png": "[encoded data removed]",
      "text/plain": [
       "<Figure size 432x288 with 1 Axes>"
      ]
     },
     "metadata": {
      "needs_background": "light"
     },
     "output_type": "display_data"
    },
    {
     "name": "stdout",
     "output_type": "stream",
     "text": [
      "../chrom_int/NC_044232.2_9482214.tsv\n"
     ]
    },
    {
     "data": {
      "image/png": "[encoded data removed]",
      "text/plain": [
       "<Figure size 432x288 with 1 Axes>"
      ]
     },
     "metadata": {
      "needs_background": "light"
     },
     "output_type": "display_data"
    },
    {
     "name": "stdout",
     "output_type": "stream",
     "text": [
      "../chrom_int/NC_044233.2_4542996.tsv\n"
     ]
    },
    {
     "data": {
      "image/png": "[encoded data removed]",
      "text/plain": [
       "<Figure size 432x288 with 1 Axes>"
      ]
     },
     "metadata": {
      "needs_background": "light"
     },
     "output_type": "display_data"
    },
    {
     "name": "stdout",
     "output_type": "stream",
     "text": [
      "../chrom_int/NC_044239.2_5227274.tsv\n"
     ]
    },
    {
     "data": {
      "image/png": "[encoded data removed]",
      "text/plain": [
       "<Figure size 432x288 with 1 Axes>"
      ]
     },
     "metadata": {
      "needs_background": "light"
     },
     "output_type": "display_data"
    },
    {
     "name": "stdout",
     "output_type": "stream",
     "text": [
      "../chrom_int/NC_044240.2_3339183.tsv\n"
     ]
    },
    {
     "data": {
      "image/png": "[encoded data removed]",
      "text/plain": [
       "<Figure size 432x288 with 1 Axes>"
      ]
     },
     "metadata": {
      "needs_background": "light"
     },
     "output_type": "display_data"
    },
    {
     "name": "stdout",
     "output_type": "stream",
     "text": [
      "../chrom_int/NC_044241.2_14633787.tsv\n"
     ]
    },
    {
     "data": {
      "image/png": "[encoded data removed]",
      "text/plain": [
       "<Figure size 432x288 with 1 Axes>"
      ]
     },
     "metadata": {
      "needs_background": "light"
     },
     "output_type": "display_data"
    }
   ],
   "source": [
    "ansv = []\n",
    "for i in df.index:\n",
    "    ansv.append(get_continue2(df, i))"
   ]
  },
  {
   "cell_type": "code",
   "execution_count": 324,
   "id": "b40cc9ee",
   "metadata": {},
   "outputs": [
    {
     "data": {
      "text/html": [
       "<div>\n",
       "<style scoped>\n",
       "    .dataframe tbody tr th:only-of-type {\n",
       "        vertical-align: middle;\n",
       "    }\n",
       "\n",
       "    .dataframe tbody tr th {\n",
       "        vertical-align: top;\n",
       "    }\n",
       "\n",
       "    .dataframe thead th {\n",
       "        text-align: right;\n",
       "    }\n",
       "</style>\n",
       "<table border=\"1\" class=\"dataframe\">\n",
       "  <thead>\n",
       "    <tr style=\"text-align: right;\">\n",
       "      <th></th>\n",
       "      <th>seq_id</th>\n",
       "      <th>source</th>\n",
       "      <th>type</th>\n",
       "      <th>start</th>\n",
       "      <th>end</th>\n",
       "      <th>score</th>\n",
       "      <th>strand</th>\n",
       "      <th>phase</th>\n",
       "      <th>attributes</th>\n",
       "      <th>chrom</th>\n",
       "      <th>element_ID</th>\n",
       "      <th>coord</th>\n",
       "    </tr>\n",
       "  </thead>\n",
       "  <tbody>\n",
       "    <tr>\n",
       "      <th>118716</th>\n",
       "      <td>NC_044212.2</td>\n",
       "      <td>Gnomon</td>\n",
       "      <td>gene</td>\n",
       "      <td>20872681</td>\n",
       "      <td>20928308</td>\n",
       "      <td>.</td>\n",
       "      <td>+</td>\n",
       "      <td>.</td>\n",
       "      <td>ID=gene-POT1;Dbxref=GeneID:100228967;Name=POT1...</td>\n",
       "      <td>NC_044212.2</td>\n",
       "      <td>POT1</td>\n",
       "      <td>20911096</td>\n",
       "    </tr>\n",
       "    <tr>\n",
       "      <th>122704</th>\n",
       "      <td>NC_044212.2</td>\n",
       "      <td>Gnomon</td>\n",
       "      <td>gene</td>\n",
       "      <td>24209740</td>\n",
       "      <td>24229025</td>\n",
       "      <td>.</td>\n",
       "      <td>+</td>\n",
       "      <td>.</td>\n",
       "      <td>ID=gene-LOC121468148;Dbxref=GeneID:121468148;N...</td>\n",
       "      <td>NC_044212.2</td>\n",
       "      <td>LOC121468148</td>\n",
       "      <td>24214881</td>\n",
       "    </tr>\n",
       "    <tr>\n",
       "      <th>282513</th>\n",
       "      <td>NC_044213.2</td>\n",
       "      <td>Gnomon</td>\n",
       "      <td>gene</td>\n",
       "      <td>134687156</td>\n",
       "      <td>135260640</td>\n",
       "      <td>.</td>\n",
       "      <td>-</td>\n",
       "      <td>.</td>\n",
       "      <td>ID=gene-CSMD3;Dbxref=GeneID:100232667;Name=CSM...</td>\n",
       "      <td>NC_044213.2</td>\n",
       "      <td>CSMD3</td>\n",
       "      <td>135115429</td>\n",
       "    </tr>\n",
       "    <tr>\n",
       "      <th>302951</th>\n",
       "      <td>NC_044214.2</td>\n",
       "      <td>Gnomon</td>\n",
       "      <td>gene</td>\n",
       "      <td>5424447</td>\n",
       "      <td>5640261</td>\n",
       "      <td>.</td>\n",
       "      <td>+</td>\n",
       "      <td>.</td>\n",
       "      <td>ID=gene-RUNX2;Dbxref=GeneID:100222668;Name=RUN...</td>\n",
       "      <td>NC_044214.2</td>\n",
       "      <td>RUNX2</td>\n",
       "      <td>5491736</td>\n",
       "    </tr>\n",
       "    <tr>\n",
       "      <th>317361</th>\n",
       "      <td>NC_044214.2</td>\n",
       "      <td>Gnomon</td>\n",
       "      <td>gene</td>\n",
       "      <td>25939415</td>\n",
       "      <td>25980658</td>\n",
       "      <td>.</td>\n",
       "      <td>-</td>\n",
       "      <td>.</td>\n",
       "      <td>ID=gene-LGSN;Dbxref=GeneID:100231690;Name=LGSN...</td>\n",
       "      <td>NC_044214.2</td>\n",
       "      <td>LGSN</td>\n",
       "      <td>25976307</td>\n",
       "    </tr>\n",
       "    <tr>\n",
       "      <th>343773</th>\n",
       "      <td>NC_044214.2</td>\n",
       "      <td>Gnomon</td>\n",
       "      <td>gene</td>\n",
       "      <td>56242016</td>\n",
       "      <td>56253492</td>\n",
       "      <td>.</td>\n",
       "      <td>-</td>\n",
       "      <td>.</td>\n",
       "      <td>ID=gene-PNLDC1;Dbxref=GeneID:100225677;Name=PN...</td>\n",
       "      <td>NC_044214.2</td>\n",
       "      <td>PNLDC1</td>\n",
       "      <td>56243393</td>\n",
       "    </tr>\n",
       "    <tr>\n",
       "      <th>374229</th>\n",
       "      <td>NC_044214.2</td>\n",
       "      <td>Gnomon</td>\n",
       "      <td>gene</td>\n",
       "      <td>81277209</td>\n",
       "      <td>81382217</td>\n",
       "      <td>.</td>\n",
       "      <td>-</td>\n",
       "      <td>.</td>\n",
       "      <td>ID=gene-SDCCAG8;Dbxref=GeneID:100232168;Name=S...</td>\n",
       "      <td>NC_044214.2</td>\n",
       "      <td>SDCCAG8</td>\n",
       "      <td>81331365</td>\n",
       "    </tr>\n",
       "    <tr>\n",
       "      <th>392434</th>\n",
       "      <td>NC_044214.2</td>\n",
       "      <td>Gnomon</td>\n",
       "      <td>gene</td>\n",
       "      <td>94028581</td>\n",
       "      <td>94063814</td>\n",
       "      <td>.</td>\n",
       "      <td>-</td>\n",
       "      <td>.</td>\n",
       "      <td>ID=gene-CAPN14;Dbxref=GeneID:100232506;Name=CA...</td>\n",
       "      <td>NC_044214.2</td>\n",
       "      <td>CAPN14</td>\n",
       "      <td>94030014</td>\n",
       "    </tr>\n",
       "    <tr>\n",
       "      <th>430654</th>\n",
       "      <td>NC_044215.2</td>\n",
       "      <td>Gnomon</td>\n",
       "      <td>gene</td>\n",
       "      <td>24926306</td>\n",
       "      <td>25012701</td>\n",
       "      <td>.</td>\n",
       "      <td>+</td>\n",
       "      <td>.</td>\n",
       "      <td>ID=gene-LOC115494957;Dbxref=GeneID:115494957;N...</td>\n",
       "      <td>NC_044215.2</td>\n",
       "      <td>LOC115494957</td>\n",
       "      <td>24953527</td>\n",
       "    </tr>\n",
       "    <tr>\n",
       "      <th>474131</th>\n",
       "      <td>NC_044215.2</td>\n",
       "      <td>Gnomon</td>\n",
       "      <td>gene</td>\n",
       "      <td>65682239</td>\n",
       "      <td>65866058</td>\n",
       "      <td>.</td>\n",
       "      <td>-</td>\n",
       "      <td>.</td>\n",
       "      <td>ID=gene-ANK2;Dbxref=GeneID:751974;Name=ANK2;gb...</td>\n",
       "      <td>NC_044215.2</td>\n",
       "      <td>ANK2</td>\n",
       "      <td>65800661</td>\n",
       "    </tr>\n",
       "    <tr>\n",
       "      <th>508191</th>\n",
       "      <td>NC_044217.2</td>\n",
       "      <td>Gnomon</td>\n",
       "      <td>gene</td>\n",
       "      <td>4590379</td>\n",
       "      <td>4625175</td>\n",
       "      <td>.</td>\n",
       "      <td>-</td>\n",
       "      <td>.</td>\n",
       "      <td>ID=gene-FAR1;Dbxref=GeneID:100223368;Name=FAR1...</td>\n",
       "      <td>NC_044217.2</td>\n",
       "      <td>FAR1</td>\n",
       "      <td>4603361</td>\n",
       "    </tr>\n",
       "    <tr>\n",
       "      <th>551439</th>\n",
       "      <td>NC_044217.2</td>\n",
       "      <td>Gnomon</td>\n",
       "      <td>gene</td>\n",
       "      <td>29163500</td>\n",
       "      <td>29214118</td>\n",
       "      <td>.</td>\n",
       "      <td>+</td>\n",
       "      <td>.</td>\n",
       "      <td>ID=gene-PLEKHH1;Dbxref=GeneID:100232510;Name=P...</td>\n",
       "      <td>NC_044217.2</td>\n",
       "      <td>PLEKHH1</td>\n",
       "      <td>29190824</td>\n",
       "    </tr>\n",
       "    <tr>\n",
       "      <th>700244</th>\n",
       "      <td>NC_044219.2</td>\n",
       "      <td>Gnomon</td>\n",
       "      <td>gene</td>\n",
       "      <td>37305766</td>\n",
       "      <td>37356921</td>\n",
       "      <td>.</td>\n",
       "      <td>+</td>\n",
       "      <td>.</td>\n",
       "      <td>ID=gene-GPD2;Dbxref=GeneID:100222867;Name=GPD2...</td>\n",
       "      <td>NC_044219.2</td>\n",
       "      <td>GPD2</td>\n",
       "      <td>37320506</td>\n",
       "    </tr>\n",
       "    <tr>\n",
       "      <th>775541</th>\n",
       "      <td>NC_044221.2</td>\n",
       "      <td>Gnomon</td>\n",
       "      <td>gene</td>\n",
       "      <td>16451948</td>\n",
       "      <td>16632438</td>\n",
       "      <td>.</td>\n",
       "      <td>+</td>\n",
       "      <td>.</td>\n",
       "      <td>ID=gene-DIS3L2;Dbxref=GeneID:105758465;Name=DI...</td>\n",
       "      <td>NC_044221.2</td>\n",
       "      <td>DIS3L2</td>\n",
       "      <td>16534374</td>\n",
       "    </tr>\n",
       "    <tr>\n",
       "      <th>784218</th>\n",
       "      <td>NC_044221.2</td>\n",
       "      <td>Gnomon</td>\n",
       "      <td>gene</td>\n",
       "      <td>22074330</td>\n",
       "      <td>22266623</td>\n",
       "      <td>.</td>\n",
       "      <td>-</td>\n",
       "      <td>.</td>\n",
       "      <td>ID=gene-LOC100227840;Dbxref=GeneID:100227840;N...</td>\n",
       "      <td>NC_044221.2</td>\n",
       "      <td>LOC100227840</td>\n",
       "      <td>22107161</td>\n",
       "    </tr>\n",
       "    <tr>\n",
       "      <th>872860</th>\n",
       "      <td>NC_044224.2</td>\n",
       "      <td>Gnomon</td>\n",
       "      <td>gene</td>\n",
       "      <td>16665097</td>\n",
       "      <td>16876945</td>\n",
       "      <td>.</td>\n",
       "      <td>+</td>\n",
       "      <td>.</td>\n",
       "      <td>ID=gene-CACNA2D2;Dbxref=GeneID:100232652;Name=...</td>\n",
       "      <td>NC_044224.2</td>\n",
       "      <td>CACNA2D2</td>\n",
       "      <td>16823715</td>\n",
       "    </tr>\n",
       "    <tr>\n",
       "      <th>1004381</th>\n",
       "      <td>NC_044230.2</td>\n",
       "      <td>Gnomon</td>\n",
       "      <td>gene</td>\n",
       "      <td>6214011</td>\n",
       "      <td>6215392</td>\n",
       "      <td>.</td>\n",
       "      <td>+</td>\n",
       "      <td>.</td>\n",
       "      <td>ID=gene-BLOC1S3;Dbxref=GeneID:115497638;Name=B...</td>\n",
       "      <td>NC_044230.2</td>\n",
       "      <td>BLOC1S3</td>\n",
       "      <td>6214136</td>\n",
       "    </tr>\n",
       "    <tr>\n",
       "      <th>1019250</th>\n",
       "      <td>NC_044231.2</td>\n",
       "      <td>Gnomon</td>\n",
       "      <td>gene</td>\n",
       "      <td>1057611</td>\n",
       "      <td>1079110</td>\n",
       "      <td>.</td>\n",
       "      <td>-</td>\n",
       "      <td>.</td>\n",
       "      <td>ID=gene-CUEDC1;Dbxref=GeneID:100228984;Name=CU...</td>\n",
       "      <td>NC_044231.2</td>\n",
       "      <td>CUEDC1</td>\n",
       "      <td>1069474</td>\n",
       "    </tr>\n",
       "    <tr>\n",
       "      <th>1053757</th>\n",
       "      <td>NC_044232.2</td>\n",
       "      <td>Gnomon</td>\n",
       "      <td>gene</td>\n",
       "      <td>9442223</td>\n",
       "      <td>9493951</td>\n",
       "      <td>.</td>\n",
       "      <td>+</td>\n",
       "      <td>.</td>\n",
       "      <td>ID=gene-DIDO1;Dbxref=GeneID:100226813;Name=DID...</td>\n",
       "      <td>NC_044232.2</td>\n",
       "      <td>DIDO1</td>\n",
       "      <td>9482214</td>\n",
       "    </tr>\n",
       "    <tr>\n",
       "      <th>1069071</th>\n",
       "      <td>NC_044233.2</td>\n",
       "      <td>Gnomon</td>\n",
       "      <td>gene</td>\n",
       "      <td>4472537</td>\n",
       "      <td>4567680</td>\n",
       "      <td>.</td>\n",
       "      <td>-</td>\n",
       "      <td>.</td>\n",
       "      <td>ID=gene-VPS13D;Dbxref=GeneID:100224544;Name=VP...</td>\n",
       "      <td>NC_044233.2</td>\n",
       "      <td>VPS13D</td>\n",
       "      <td>4542996</td>\n",
       "    </tr>\n",
       "    <tr>\n",
       "      <th>1165444</th>\n",
       "      <td>NC_044239.2</td>\n",
       "      <td>Gnomon</td>\n",
       "      <td>gene</td>\n",
       "      <td>5226706</td>\n",
       "      <td>5234789</td>\n",
       "      <td>.</td>\n",
       "      <td>+</td>\n",
       "      <td>.</td>\n",
       "      <td>ID=gene-FTSJ3;Dbxref=GeneID:115490641;Name=FTS...</td>\n",
       "      <td>NC_044239.2</td>\n",
       "      <td>FTSJ3</td>\n",
       "      <td>5227274</td>\n",
       "    </tr>\n",
       "    <tr>\n",
       "      <th>1177863</th>\n",
       "      <td>NC_044240.2</td>\n",
       "      <td>Gnomon</td>\n",
       "      <td>gene</td>\n",
       "      <td>3337505</td>\n",
       "      <td>3351673</td>\n",
       "      <td>.</td>\n",
       "      <td>+</td>\n",
       "      <td>.</td>\n",
       "      <td>ID=gene-ACSBG2;Dbxref=GeneID:100222373;Name=AC...</td>\n",
       "      <td>NC_044240.2</td>\n",
       "      <td>ACSBG2</td>\n",
       "      <td>3339183</td>\n",
       "    </tr>\n",
       "    <tr>\n",
       "      <th>1194941</th>\n",
       "      <td>NC_044241.2</td>\n",
       "      <td>Gnomon</td>\n",
       "      <td>gene</td>\n",
       "      <td>14460558</td>\n",
       "      <td>14694668</td>\n",
       "      <td>.</td>\n",
       "      <td>+</td>\n",
       "      <td>.</td>\n",
       "      <td>ID=gene-KIAA0825;Dbxref=GeneID:100225391;Name=...</td>\n",
       "      <td>NC_044241.2</td>\n",
       "      <td>KIAA0825</td>\n",
       "      <td>14633787</td>\n",
       "    </tr>\n",
       "  </tbody>\n",
       "</table>\n",
       "</div>"
      ],
      "text/plain": [
       "              seq_id  source  type      start        end score strand phase  \\\n",
       "118716   NC_044212.2  Gnomon  gene   20872681   20928308     .      +     .   \n",
       "122704   NC_044212.2  Gnomon  gene   24209740   24229025     .      +     .   \n",
       "282513   NC_044213.2  Gnomon  gene  134687156  135260640     .      -     .   \n",
       "302951   NC_044214.2  Gnomon  gene    5424447    5640261     .      +     .   \n",
       "317361   NC_044214.2  Gnomon  gene   25939415   25980658     .      -     .   \n",
       "343773   NC_044214.2  Gnomon  gene   56242016   56253492     .      -     .   \n",
       "374229   NC_044214.2  Gnomon  gene   81277209   81382217     .      -     .   \n",
       "392434   NC_044214.2  Gnomon  gene   94028581   94063814     .      -     .   \n",
       "430654   NC_044215.2  Gnomon  gene   24926306   25012701     .      +     .   \n",
       "474131   NC_044215.2  Gnomon  gene   65682239   65866058     .      -     .   \n",
       "508191   NC_044217.2  Gnomon  gene    4590379    4625175     .      -     .   \n",
       "551439   NC_044217.2  Gnomon  gene   29163500   29214118     .      +     .   \n",
       "700244   NC_044219.2  Gnomon  gene   37305766   37356921     .      +     .   \n",
       "775541   NC_044221.2  Gnomon  gene   16451948   16632438     .      +     .   \n",
       "784218   NC_044221.2  Gnomon  gene   22074330   22266623     .      -     .   \n",
       "872860   NC_044224.2  Gnomon  gene   16665097   16876945     .      +     .   \n",
       "1004381  NC_044230.2  Gnomon  gene    6214011    6215392     .      +     .   \n",
       "1019250  NC_044231.2  Gnomon  gene    1057611    1079110     .      -     .   \n",
       "1053757  NC_044232.2  Gnomon  gene    9442223    9493951     .      +     .   \n",
       "1069071  NC_044233.2  Gnomon  gene    4472537    4567680     .      -     .   \n",
       "1165444  NC_044239.2  Gnomon  gene    5226706    5234789     .      +     .   \n",
       "1177863  NC_044240.2  Gnomon  gene    3337505    3351673     .      +     .   \n",
       "1194941  NC_044241.2  Gnomon  gene   14460558   14694668     .      +     .   \n",
       "\n",
       "                                                attributes        chrom  \\\n",
       "118716   ID=gene-POT1;Dbxref=GeneID:100228967;Name=POT1...  NC_044212.2   \n",
       "122704   ID=gene-LOC121468148;Dbxref=GeneID:121468148;N...  NC_044212.2   \n",
       "282513   ID=gene-CSMD3;Dbxref=GeneID:100232667;Name=CSM...  NC_044213.2   \n",
       "302951   ID=gene-RUNX2;Dbxref=GeneID:100222668;Name=RUN...  NC_044214.2   \n",
       "317361   ID=gene-LGSN;Dbxref=GeneID:100231690;Name=LGSN...  NC_044214.2   \n",
       "343773   ID=gene-PNLDC1;Dbxref=GeneID:100225677;Name=PN...  NC_044214.2   \n",
       "374229   ID=gene-SDCCAG8;Dbxref=GeneID:100232168;Name=S...  NC_044214.2   \n",
       "392434   ID=gene-CAPN14;Dbxref=GeneID:100232506;Name=CA...  NC_044214.2   \n",
       "430654   ID=gene-LOC115494957;Dbxref=GeneID:115494957;N...  NC_044215.2   \n",
       "474131   ID=gene-ANK2;Dbxref=GeneID:751974;Name=ANK2;gb...  NC_044215.2   \n",
       "508191   ID=gene-FAR1;Dbxref=GeneID:100223368;Name=FAR1...  NC_044217.2   \n",
       "551439   ID=gene-PLEKHH1;Dbxref=GeneID:100232510;Name=P...  NC_044217.2   \n",
       "700244   ID=gene-GPD2;Dbxref=GeneID:100222867;Name=GPD2...  NC_044219.2   \n",
       "775541   ID=gene-DIS3L2;Dbxref=GeneID:105758465;Name=DI...  NC_044221.2   \n",
       "784218   ID=gene-LOC100227840;Dbxref=GeneID:100227840;N...  NC_044221.2   \n",
       "872860   ID=gene-CACNA2D2;Dbxref=GeneID:100232652;Name=...  NC_044224.2   \n",
       "1004381  ID=gene-BLOC1S3;Dbxref=GeneID:115497638;Name=B...  NC_044230.2   \n",
       "1019250  ID=gene-CUEDC1;Dbxref=GeneID:100228984;Name=CU...  NC_044231.2   \n",
       "1053757  ID=gene-DIDO1;Dbxref=GeneID:100226813;Name=DID...  NC_044232.2   \n",
       "1069071  ID=gene-VPS13D;Dbxref=GeneID:100224544;Name=VP...  NC_044233.2   \n",
       "1165444  ID=gene-FTSJ3;Dbxref=GeneID:115490641;Name=FTS...  NC_044239.2   \n",
       "1177863  ID=gene-ACSBG2;Dbxref=GeneID:100222373;Name=AC...  NC_044240.2   \n",
       "1194941  ID=gene-KIAA0825;Dbxref=GeneID:100225391;Name=...  NC_044241.2   \n",
       "\n",
       "           element_ID      coord  \n",
       "118716           POT1   20911096  \n",
       "122704   LOC121468148   24214881  \n",
       "282513          CSMD3  135115429  \n",
       "302951          RUNX2    5491736  \n",
       "317361           LGSN   25976307  \n",
       "343773         PNLDC1   56243393  \n",
       "374229        SDCCAG8   81331365  \n",
       "392434         CAPN14   94030014  \n",
       "430654   LOC115494957   24953527  \n",
       "474131           ANK2   65800661  \n",
       "508191           FAR1    4603361  \n",
       "551439        PLEKHH1   29190824  \n",
       "700244           GPD2   37320506  \n",
       "775541         DIS3L2   16534374  \n",
       "784218   LOC100227840   22107161  \n",
       "872860       CACNA2D2   16823715  \n",
       "1004381       BLOC1S3    6214136  \n",
       "1019250        CUEDC1    1069474  \n",
       "1053757         DIDO1    9482214  \n",
       "1069071        VPS13D    4542996  \n",
       "1165444         FTSJ3    5227274  \n",
       "1177863        ACSBG2    3339183  \n",
       "1194941      KIAA0825   14633787  "
      ]
     },
     "execution_count": 324,
     "metadata": {},
     "output_type": "execute_result"
    }
   ],
   "source": [
    "df['filter_2'] = pd.Series(ansv)\n",
    "df_true_2 = df[df['filter_2']==True]\n",
    "\n",
    "get_genes(df_true_2)"
   ]
  },
  {
   "cell_type": "code",
   "execution_count": null,
   "id": "ee397270",
   "metadata": {},
   "outputs": [],
   "source": []
  }
 ],
 "metadata": {
  "kernelspec": {
   "display_name": "Python 3 (ipykernel)",
   "language": "python",
   "name": "python3"
  },
  "language_info": {
   "codemirror_mode": {
    "name": "ipython",
    "version": 3
   },
   "file_extension": ".py",
   "mimetype": "text/x-python",
   "name": "python",
   "nbconvert_exporter": "python",
   "pygments_lexer": "ipython3",
   "version": "3.9.13"
  }
 },
 "nbformat": 4,
 "nbformat_minor": 5
}
