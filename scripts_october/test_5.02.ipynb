{
 "cells": [
  {
   "cell_type": "markdown",
   "metadata": {},
   "source": [
    "#### Создаю файл с комбинациями инновационных и неинновационных имен"
   ]
  },
  {
   "cell_type": "code",
   "execution_count": null,
   "metadata": {},
   "outputs": [],
   "source": [
    "from itertools import combinations\n",
    "names = ['2_bTaeGut1', '1_bAlcTor1', '1_bSylBor1', '1_bBucAby1', '1_bGeoTri1', '1_bSteHir1', '1_bSylAtr1', '4_bAquChr1']\n",
    "combs = ['\\t'.join([','.join(i), ','.join([j for j in names if j not in i])]) for i in combinations(names, 4)]\n",
    "\n",
    "file = open('../70_names.txt', 'w')\n",
    "file.write('\\n'.join(combs))\n",
    "file.close()"
   ]
  }
 ],
 "metadata": {
  "kernelspec": {
   "display_name": "Python 3.9.13 ('base')",
   "language": "python",
   "name": "python3"
  },
  "language_info": {
   "codemirror_mode": {
    "name": "ipython",
    "version": 3
   },
   "file_extension": ".py",
   "mimetype": "text/x-python",
   "name": "python",
   "nbconvert_exporter": "python",
   "pygments_lexer": "ipython3",
   "version": "3.9.13"
  },
  "orig_nbformat": 4,
  "vscode": {
   "interpreter": {
    "hash": "bde5734f453f07c7e803eda2dc8899d391ad6018f316c4f0956e2dfc28db0e73"
   }
  }
 },
 "nbformat": 4,
 "nbformat_minor": 2
}
